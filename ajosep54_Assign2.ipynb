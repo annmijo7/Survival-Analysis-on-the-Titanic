{
 "cells": [
  {
   "cell_type": "markdown",
   "metadata": {},
   "source": [
    "# Predicting Survival on Titanic Data Set\n",
    "#### By Ann Joseph (251061872) Meher Pooja Pranavi Punyamanthula (251056788)"
   ]
  },
  {
   "cell_type": "markdown",
   "metadata": {},
   "source": [
    "RMS Titanic was a British passenger liner that sank in the North Atlantic Ocean in 1912, after colliding with an iceberg during its first voyage from Southampton to New York City. Of the estimated 2,224 passengers and crew aboard, more than 1,500 died, including its chief naval architect and captain, making it one of modern history's deadliest commercial marine disasters during peacetime. RMS Titanic was the largest ship afloat at the time it entered service and was the second of three Olympic-class ocean liners operated by the White Star Line. She was built by the Harland and Wolff shipyard in Belfast. \n",
    "\n",
    "The ocean liner carried some of the wealthiest people in the world, as well as hundreds of emigrants from Great Britain and Ireland, Scandinavia and elsewhere throughout Europe who were seeking a new life in the United States. Although Titanic had advanced safety features such as watertight compartments and remotely activated watertight doors, it only carried enough lifeboats for 1,178 people—about half the number on board, and one third of her total capacity—due to outdated maritime safety regulations. \n",
    "\n",
    "The Titanic had 2,222 people on board including 1,317 passengers. Out of this, only 706 survived (492 passengers and 214 crew). Using the Titanic data set and machine learning algorithms, in this assignment, we analyze information about passengers on board the RMS Titanic and predict whether or not they survived.\n"
   ]
  },
  {
   "cell_type": "markdown",
   "metadata": {},
   "source": [
    "The following are the steps we did in this assignment:\n",
    "1. Importing Data\n",
    "2. Data Description\n",
    "3. Data Cleaning\n",
    "4. Data Visualization\n",
    "5. Estimating Missing Values\n",
    "6. One Hot Encoding and Stardization\n",
    "7. Data Splitting\n",
    "8. Data Modelling\n",
    "9. Model Comparison and Conclusion"
   ]
  },
  {
   "cell_type": "markdown",
   "metadata": {},
   "source": [
    "## 1. Importing Data"
   ]
  },
  {
   "cell_type": "markdown",
   "metadata": {},
   "source": [
    "First, all the libraries needed for this assignment are imported as well as both data sets provided."
   ]
  },
  {
   "cell_type": "code",
   "execution_count": 165,
   "metadata": {},
   "outputs": [],
   "source": [
    "import random\n",
    "import matplotlib.pyplot as plt\n",
    "import numpy as np\n",
    "import pandas as pd\n",
    "import seaborn as sns\n",
    "from sklearn import neural_network\n",
    "from sklearn.ensemble import RandomForestClassifier\n",
    "from sklearn.model_selection import GridSearchCV\n",
    "from sklearn.neural_network import MLPClassifier\n",
    "from sklearn.naive_bayes import GaussianNB\n",
    "from sklearn.linear_model import Perceptron\n",
    "import matplotlib.pyplot as plt\n",
    "from sklearn.discriminant_analysis import LinearDiscriminantAnalysis\n",
    "from sklearn.preprocessing import StandardScaler\n",
    "from sklearn.model_selection import KFold\n",
    "from sklearn.model_selection import cross_val_score\n",
    "\n",
    "titanic = pd.read_csv(\"train.csv\")\n",
    "test = pd.read_csv(\"test.csv\")"
   ]
  },
  {
   "cell_type": "markdown",
   "metadata": {},
   "source": [
    "## 2. Data Description"
   ]
  },
  {
   "cell_type": "markdown",
   "metadata": {},
   "source": [
    "The following are the columns in this data set:\n",
    "1. PassengerId\n",
    "2. Survived: A binary variable depending on whether the passenger survived or not\n",
    "3. Pclass: Class of travel\n",
    "4. Name: Name of passenger\n",
    "5. Sex: Gender of the passenger\n",
    "6. Age:Age of the passenger\n",
    "7. SibSp: Number of Sibling/Spouse aboard\n",
    "8. Parch: Number of Parent/Child aboard\n",
    "9. Ticket: Ticket Number\n",
    "10. Fare\n",
    "11. Cabin\n",
    "12. Embarked: The port in which a passenger has embarked.\n",
    "\n",
    "Here, Survived is the response variable and all the others are columns are the predictors."
   ]
  },
  {
   "cell_type": "markdown",
   "metadata": {},
   "source": [
    "## 3. Data Cleaning\n",
    "\n",
    "In this step, first the column PassengerId and Ticket are removed because we don't think it's important in this analysis.\n",
    "Next, from the Name column, the Title of the passenger is taken and that is made into a new column. Then the Name column is deleted. This is done as below."
   ]
  },
  {
   "cell_type": "code",
   "execution_count": 166,
   "metadata": {},
   "outputs": [],
   "source": [
    "titanic=titanic.drop(['PassengerId', 'Ticket'], axis=1)\n",
    "test=test.drop(['Ticket'], axis=1)\n",
    "titanic[['LastName','FirstName']] = titanic.Name.str.split(',', expand=True)\n",
    "test[['LastName','FirstName']] = test.Name.str.split(',', expand=True)"
   ]
  },
  {
   "cell_type": "code",
   "execution_count": 167,
   "metadata": {
    "scrolled": true
   },
   "outputs": [],
   "source": [
    "titanic[['Title','Name1','Other']] = titanic.FirstName.str.split(\".\", expand=True)\n",
    "test[['Title','Name1']] = test.FirstName.str.split(\".\", expand=True)"
   ]
  },
  {
   "cell_type": "code",
   "execution_count": 168,
   "metadata": {
    "scrolled": true
   },
   "outputs": [],
   "source": [
    "titanic=titanic.drop(['Name','LastName','FirstName','Name1','Other'], axis=1)\n",
    "test=test.drop(['Name','LastName','FirstName','Name1'], axis=1)"
   ]
  },
  {
   "cell_type": "markdown",
   "metadata": {},
   "source": [
    "Next, bins are made in Title. The bins are as follows:\n",
    "1. Mr\n",
    "2. Ms - has Miss, Mrs, Mme, Mlle\n",
    "3. Master\n",
    "4. Other - has the Countess, Sir, Rev, Major, Lady, Jonkheer, Dr, Don, Col, Capt"
   ]
  },
  {
   "cell_type": "code",
   "execution_count": 169,
   "metadata": {
    "scrolled": true
   },
   "outputs": [],
   "source": [
    "titanic.Title.replace(' Miss', ' Ms', inplace=True)\n",
    "titanic.Title.replace(' Mrs', ' Mrs', inplace=True)\n",
    "titanic.Title.replace(' Mme', ' Mrs', inplace=True)\n",
    "titanic.Title.replace(' Mlle', ' Ms', inplace=True)\n",
    "titanic.Title.replace(' the Countess', ' Other', inplace=True)\n",
    "titanic.Title.replace(' Sir', ' Other', inplace=True)\n",
    "titanic.Title.replace(' Rev', ' Other', inplace=True)\n",
    "titanic.Title.replace(' Major', ' Other', inplace=True)\n",
    "titanic.Title.replace(' Lady', ' Other', inplace=True)\n",
    "titanic.Title.replace(' Jonkheer', ' Other', inplace=True)\n",
    "titanic.Title.replace(' Dr', ' Other', inplace=True)\n",
    "titanic.Title.replace(' Don', ' Other', inplace=True)\n",
    "titanic.Title.replace(' Col', ' Other', inplace=True)\n",
    "titanic.Title.replace(' Capt', ' Other', inplace=True)"
   ]
  },
  {
   "cell_type": "code",
   "execution_count": 170,
   "metadata": {},
   "outputs": [],
   "source": [
    "test.Title.replace(' Miss', ' Ms', inplace=True)\n",
    "test.Title.replace(' Mrs', ' Mrs', inplace=True)\n",
    "test.Title.replace(' Mme', ' Mrs', inplace=True)\n",
    "test.Title.replace(' Mlle', ' Ms', inplace=True)\n",
    "test.Title.replace(' the Countess', ' Other', inplace=True)\n",
    "test.Title.replace(' Sir', ' Other', inplace=True)\n",
    "test.Title.replace(' Rev', ' Other', inplace=True)\n",
    "test.Title.replace(' Major', ' Other', inplace=True)\n",
    "test.Title.replace(' Lady', ' Other', inplace=True)\n",
    "test.Title.replace(' Jonkheer', ' Other', inplace=True)\n",
    "test.Title.replace(' Dr', ' Other', inplace=True)\n",
    "test.Title.replace(' Don', ' Other', inplace=True)\n",
    "test.Title.replace(' Col', ' Other', inplace=True)\n",
    "test.Title.replace(' Capt', ' Other', inplace=True)"
   ]
  },
  {
   "cell_type": "markdown",
   "metadata": {},
   "source": [
    "It is important to deal with and NULL or blank values in the data set. The following helps understand how many blank values are present."
   ]
  },
  {
   "cell_type": "code",
   "execution_count": 171,
   "metadata": {},
   "outputs": [
    {
     "data": {
      "text/html": [
       "<div>\n",
       "<style scoped>\n",
       "    .dataframe tbody tr th:only-of-type {\n",
       "        vertical-align: middle;\n",
       "    }\n",
       "\n",
       "    .dataframe tbody tr th {\n",
       "        vertical-align: top;\n",
       "    }\n",
       "\n",
       "    .dataframe thead th {\n",
       "        text-align: right;\n",
       "    }\n",
       "</style>\n",
       "<table border=\"1\" class=\"dataframe\">\n",
       "  <thead>\n",
       "    <tr style=\"text-align: right;\">\n",
       "      <th></th>\n",
       "      <th>Total Train</th>\n",
       "      <th>%</th>\n",
       "    </tr>\n",
       "  </thead>\n",
       "  <tbody>\n",
       "    <tr>\n",
       "      <th>Cabin</th>\n",
       "      <td>687</td>\n",
       "      <td>77.1</td>\n",
       "    </tr>\n",
       "    <tr>\n",
       "      <th>Age</th>\n",
       "      <td>177</td>\n",
       "      <td>19.9</td>\n",
       "    </tr>\n",
       "    <tr>\n",
       "      <th>Embarked</th>\n",
       "      <td>2</td>\n",
       "      <td>0.2</td>\n",
       "    </tr>\n",
       "    <tr>\n",
       "      <th>Title</th>\n",
       "      <td>0</td>\n",
       "      <td>0.0</td>\n",
       "    </tr>\n",
       "    <tr>\n",
       "      <th>Fare</th>\n",
       "      <td>0</td>\n",
       "      <td>0.0</td>\n",
       "    </tr>\n",
       "  </tbody>\n",
       "</table>\n",
       "</div>"
      ],
      "text/plain": [
       "          Total Train     %\n",
       "Cabin             687  77.1\n",
       "Age               177  19.9\n",
       "Embarked            2   0.2\n",
       "Title               0   0.0\n",
       "Fare                0   0.0"
      ]
     },
     "execution_count": 171,
     "metadata": {},
     "output_type": "execute_result"
    }
   ],
   "source": [
    "total = titanic.isnull().sum().sort_values(ascending=False)\n",
    "percent_1 = titanic.isnull().sum()/titanic.isnull().count()*100\n",
    "percent_2 = (round(percent_1, 1)).sort_values(ascending=False)\n",
    "missing_data = pd.concat([total, percent_2], axis=1, keys=['Total Train', '%'])\n",
    "missing_data.head(5)"
   ]
  },
  {
   "cell_type": "markdown",
   "metadata": {},
   "source": [
    "Hence, in the training set, the missing values of Age and Embarked need to be dealt with. Since most values in Cabin are blank, we will remove this column from the dataset.\n",
    "\n",
    "In the test set, the missing values are as follows"
   ]
  },
  {
   "cell_type": "code",
   "execution_count": 172,
   "metadata": {},
   "outputs": [
    {
     "data": {
      "text/html": [
       "<div>\n",
       "<style scoped>\n",
       "    .dataframe tbody tr th:only-of-type {\n",
       "        vertical-align: middle;\n",
       "    }\n",
       "\n",
       "    .dataframe tbody tr th {\n",
       "        vertical-align: top;\n",
       "    }\n",
       "\n",
       "    .dataframe thead th {\n",
       "        text-align: right;\n",
       "    }\n",
       "</style>\n",
       "<table border=\"1\" class=\"dataframe\">\n",
       "  <thead>\n",
       "    <tr style=\"text-align: right;\">\n",
       "      <th></th>\n",
       "      <th>Total Test</th>\n",
       "      <th>%</th>\n",
       "    </tr>\n",
       "  </thead>\n",
       "  <tbody>\n",
       "    <tr>\n",
       "      <th>Cabin</th>\n",
       "      <td>327</td>\n",
       "      <td>78.2</td>\n",
       "    </tr>\n",
       "    <tr>\n",
       "      <th>Age</th>\n",
       "      <td>86</td>\n",
       "      <td>20.6</td>\n",
       "    </tr>\n",
       "    <tr>\n",
       "      <th>Fare</th>\n",
       "      <td>1</td>\n",
       "      <td>0.2</td>\n",
       "    </tr>\n",
       "    <tr>\n",
       "      <th>Title</th>\n",
       "      <td>0</td>\n",
       "      <td>0.0</td>\n",
       "    </tr>\n",
       "    <tr>\n",
       "      <th>Embarked</th>\n",
       "      <td>0</td>\n",
       "      <td>0.0</td>\n",
       "    </tr>\n",
       "  </tbody>\n",
       "</table>\n",
       "</div>"
      ],
      "text/plain": [
       "          Total Test     %\n",
       "Cabin            327  78.2\n",
       "Age               86  20.6\n",
       "Fare               1   0.2\n",
       "Title              0   0.0\n",
       "Embarked           0   0.0"
      ]
     },
     "execution_count": 172,
     "metadata": {},
     "output_type": "execute_result"
    }
   ],
   "source": [
    "total = test.isnull().sum().sort_values(ascending=False)\n",
    "percent_1 = test.isnull().sum()/test.isnull().count()*100\n",
    "percent_2 = (round(percent_1, 1)).sort_values(ascending=False)\n",
    "missing_data = pd.concat([total, percent_2], axis=1, keys=['Total Test', '%'])\n",
    "missing_data.head(5)"
   ]
  },
  {
   "cell_type": "markdown",
   "metadata": {},
   "source": [
    "Hence, in the test set, Age and Fare need to be dealt with. "
   ]
  },
  {
   "cell_type": "markdown",
   "metadata": {},
   "source": [
    "The first thing we do is change the categorical values in Age and Embarked to numbers.\n",
    "In Age, male is 1 and female is 0."
   ]
  },
  {
   "cell_type": "code",
   "execution_count": 173,
   "metadata": {
    "scrolled": true
   },
   "outputs": [],
   "source": [
    "titanic.Sex.replace('male', 1, inplace=True)\n",
    "titanic.Sex.replace('female', 0, inplace=True)\n",
    "test.Sex.replace('male', 1, inplace=True)\n",
    "test.Sex.replace('female', 0, inplace=True)"
   ]
  },
  {
   "cell_type": "markdown",
   "metadata": {},
   "source": [
    "In Embarked, changing S to 1, C to 2, Q to 3"
   ]
  },
  {
   "cell_type": "code",
   "execution_count": 174,
   "metadata": {
    "scrolled": true
   },
   "outputs": [],
   "source": [
    "titanic.Embarked.replace('S', 1, inplace=True)\n",
    "titanic.Embarked.replace('C', 2, inplace=True)\n",
    "titanic.Embarked.replace('Q', 3, inplace=True)\n",
    "test.Embarked.replace('S', 1, inplace=True)\n",
    "test.Embarked.replace('C', 2, inplace=True)\n",
    "test.Embarked.replace('Q', 3, inplace=True)"
   ]
  },
  {
   "cell_type": "markdown",
   "metadata": {},
   "source": [
    "## 4. Data Visualisation\n",
    "\n",
    "### Titles"
   ]
  },
  {
   "cell_type": "markdown",
   "metadata": {},
   "source": [
    "From below, we see that there are more people with the first few titles than titles like Master or any of the others."
   ]
  },
  {
   "cell_type": "code",
   "execution_count": 176,
   "metadata": {},
   "outputs": [
    {
     "data": {
      "text/plain": [
       "<BarContainer object of 5 artists>"
      ]
     },
     "execution_count": 176,
     "metadata": {},
     "output_type": "execute_result"
    },
    {
     "data": {
      "image/png": "[encoded data removed]",
      "text/plain": [
       "<Figure size 432x288 with 1 Axes>"
      ]
     },
     "metadata": {
      "needs_background": "light"
     },
     "output_type": "display_data"
    }
   ],
   "source": [
    "freq=titanic['Title'].value_counts()\n",
    "freq\n",
    "len_title = np.arange(len(titanic.Title))\n",
    "uniq=titanic.Title.unique()\n",
    "uniq\n",
    "plt.bar(uniq,freq)"
   ]
  },
  {
   "cell_type": "markdown",
   "metadata": {},
   "source": [
    "### Age VS Survival Rate"
   ]
  },
  {
   "cell_type": "code",
   "execution_count": 177,
   "metadata": {
    "scrolled": false
   },
   "outputs": [
    {
     "data": {
      "image/png": "[encoded data removed]",
      "text/plain": [
       "<Figure size 720x288 with 2 Axes>"
      ]
     },
     "metadata": {
      "needs_background": "light"
     },
     "output_type": "display_data"
    }
   ],
   "source": [
    "\n",
    "survived = 'survived'\n",
    "not_survived = 'not survived'\n",
    "fig, axes = plt.subplots(nrows=1, ncols=2,figsize=(10, 4))\n",
    "women = titanic[titanic['Sex']==0]\n",
    "men = titanic[titanic['Sex']==1]\n",
    "ax = sns.distplot(women[women['Survived']==1].Age.dropna(), bins=18, label = survived, ax = axes[0], kde =False)\n",
    "ax = sns.distplot(women[women['Survived']==0].Age.dropna(), bins=40, label = not_survived, ax = axes[0], kde =False)\n",
    "ax.legend()\n",
    "ax.set_title('Female')\n",
    "ax = sns.distplot(men[men['Survived']==1].Age.dropna(), bins=18, label = survived, ax = axes[1], kde = False)\n",
    "ax = sns.distplot(men[men['Survived']==0].Age.dropna(), bins=40, label = not_survived, ax = axes[1], kde = False)\n",
    "ax.legend()\n",
    "_ = ax.set_title('Male')\n",
    "\n"
   ]
  },
  {
   "cell_type": "markdown",
   "metadata": {},
   "source": [
    "From the above, you can see that men have a high probability of survival when they are between 18 and 30 years old. This is only sometimes true for women. For women the survival chances are higher between 14 and 40.\n",
    "\n",
    "For men the probability of survival is very low between the age of 5 and 18, but that isn’t true for women. Another thing to note is that infants also have a little bit higher probability of survival."
   ]
  },
  {
   "cell_type": "markdown",
   "metadata": {},
   "source": [
    "### Embarked VS Survival Rate differentiated on Sex"
   ]
  },
  {
   "cell_type": "code",
   "execution_count": 178,
   "metadata": {},
   "outputs": [
    {
     "name": "stderr",
     "output_type": "stream",
     "text": [
      "C:\\Users\\annjo\\Anaconda3\\lib\\site-packages\\scipy\\stats\\stats.py:1713: FutureWarning: Using a non-tuple sequence for multidimensional indexing is deprecated; use `arr[tuple(seq)]` instead of `arr[seq]`. In the future this will be interpreted as an array index, `arr[np.array(seq)]`, which will result either in an error or a different result.\n",
      "  return np.add.reduce(sorted[indexer] * weights, axis=axis) / sumval\n"
     ]
    },
    {
     "data": {
      "text/plain": [
       "<seaborn.axisgrid.FacetGrid at 0x208dc817518>"
      ]
     },
     "execution_count": 178,
     "metadata": {},
     "output_type": "execute_result"
    },
    {
     "data": {
      "image/png": "[encoded data removed]",
      "text/plain": [
       "<Figure size 560.775x972 with 3 Axes>"
      ]
     },
     "metadata": {
      "needs_background": "light"
     },
     "output_type": "display_data"
    }
   ],
   "source": [
    "FacetGrid = sns.FacetGrid(titanic, row='Embarked', height=4.5, aspect=1.6)\n",
    "FacetGrid.map(sns.pointplot, 'Pclass', 'Survived', 'Sex', palette=None,  order=None, hue_order=None )\n",
    "FacetGrid.add_legend()"
   ]
  },
  {
   "cell_type": "markdown",
   "metadata": {},
   "source": [
    "From the above, Embarked seems to be correlated with survival, depending on the gender.\n",
    "\n",
    "Women on port Q and on port S have a higher chance of survival. The inverse is true, if they are at port C. Men have a high survival probability if they are on port C, but a low probability if they are on port Q or S."
   ]
  },
  {
   "cell_type": "markdown",
   "metadata": {},
   "source": [
    "### Class VS Survival"
   ]
  },
  {
   "cell_type": "code",
   "execution_count": 179,
   "metadata": {},
   "outputs": [
    {
     "data": {
      "text/plain": [
       "<matplotlib.axes._subplots.AxesSubplot at 0x208dd0372b0>"
      ]
     },
     "execution_count": 179,
     "metadata": {},
     "output_type": "execute_result"
    },
    {
     "data": {
      "image/png": "[encoded data removed]",
      "text/plain": [
       "<Figure size 432x288 with 1 Axes>"
      ]
     },
     "metadata": {
      "needs_background": "light"
     },
     "output_type": "display_data"
    }
   ],
   "source": [
    "sns.barplot(x='Pclass', y='Survived', data=titanic)"
   ]
  },
  {
   "cell_type": "markdown",
   "metadata": {},
   "source": [
    "From the above graph and the graphs below, it is obvious that there is a higher chance of survival when the passenger is in the first class versus when they're in the third class. In the graph below, it can be noted that most passengers in the third class did not survive."
   ]
  },
  {
   "cell_type": "code",
   "execution_count": 180,
   "metadata": {},
   "outputs": [
    {
     "data": {
      "image/png": "[encoded data removed]",
      "text/plain": [
       "<Figure size 514.88x475.2 with 6 Axes>"
      ]
     },
     "metadata": {
      "needs_background": "light"
     },
     "output_type": "display_data"
    }
   ],
   "source": [
    "grid = sns.FacetGrid(titanic, col='Survived', row='Pclass', height=2.2, aspect=1.6)\n",
    "grid.map(plt.hist, 'Age', alpha=.5, bins=20)\n",
    "grid.add_legend();"
   ]
  },
  {
   "cell_type": "markdown",
   "metadata": {},
   "source": [
    "### Number of relatives VS Survival"
   ]
  },
  {
   "cell_type": "code",
   "execution_count": 181,
   "metadata": {},
   "outputs": [
    {
     "name": "stderr",
     "output_type": "stream",
     "text": [
      "C:\\Users\\annjo\\Anaconda3\\lib\\site-packages\\seaborn\\categorical.py:3666: UserWarning: The `factorplot` function has been renamed to `catplot`. The original name will be removed in a future release. Please update your code. Note that the default `kind` in `factorplot` (`'point'`) has changed `'strip'` in `catplot`.\n",
      "  warnings.warn(msg)\n"
     ]
    },
    {
     "data": {
      "image/png": "[encoded data removed]",
      "text/plain": [
       "<Figure size 900x360 with 1 Axes>"
      ]
     },
     "metadata": {
      "needs_background": "light"
     },
     "output_type": "display_data"
    }
   ],
   "source": [
    "titanic['relatives'] = titanic['SibSp'] + titanic['Parch']\n",
    "titanic.loc[titanic['relatives'] > 0, 'not_alone'] = 0\n",
    "titanic.loc[titanic['relatives'] == 0, 'not_alone'] = 1\n",
    "titanic['not_alone'] = titanic['not_alone'].astype(int)\n",
    "\n",
    "axes = sns.factorplot('relatives','Survived', \n",
    "                      data=titanic, aspect = 2.5, )"
   ]
  },
  {
   "cell_type": "markdown",
   "metadata": {},
   "source": [
    "From the above, we can see that there is a high probabilty of survival with 1 to 3 relatives, but a lower probability if you had less than 1 or more than 3 (except for some cases with 6 relatives)."
   ]
  },
  {
   "cell_type": "markdown",
   "metadata": {},
   "source": [
    "## 5. Estimating Missing Values"
   ]
  },
  {
   "cell_type": "markdown",
   "metadata": {},
   "source": [
    "### Estimating Age\n",
    "\n",
    "We did this taking the mean of the column."
   ]
  },
  {
   "cell_type": "code",
   "execution_count": 182,
   "metadata": {},
   "outputs": [],
   "source": [
    "data = [titanic, test]\n",
    "\n",
    "for dataset in data:\n",
    "    mean = titanic[\"Age\"].mean()\n",
    "    std = test[\"Age\"].std()\n",
    "    is_null = dataset[\"Age\"].isnull().sum()\n",
    "    # compute random numbers between the mean, std and is_null\n",
    "    rand_age = np.random.randint(mean - std, mean + std, size = is_null)\n",
    "    # fill NaN values in Age column with random values generated\n",
    "    age_slice = dataset[\"Age\"].copy()\n",
    "    age_slice[np.isnan(age_slice)] = rand_age\n",
    "    dataset[\"Age\"] = age_slice\n",
    "    dataset[\"Age\"] = titanic[\"Age\"].astype(int)"
   ]
  },
  {
   "cell_type": "markdown",
   "metadata": {
    "scrolled": true
   },
   "source": [
    "### Changing blanks in Fare to 0"
   ]
  },
  {
   "cell_type": "code",
   "execution_count": 183,
   "metadata": {},
   "outputs": [],
   "source": [
    "fill_value = 1\n",
    "test['Fare'] = test['Fare'].fillna(fill_value)"
   ]
  },
  {
   "cell_type": "markdown",
   "metadata": {},
   "source": [
    "### Estimating Embarked based on common value"
   ]
  },
  {
   "cell_type": "code",
   "execution_count": 184,
   "metadata": {},
   "outputs": [],
   "source": [
    "common_value = 1\n",
    "titanic['Embarked'] = titanic['Embarked'].fillna(common_value)"
   ]
  },
  {
   "cell_type": "markdown",
   "metadata": {},
   "source": [
    "## 6. One-Hot Encoding\n",
    "\n",
    "This is done so that the machine learning algorithms do not give a higher values more importance. By changing each categorical variable to multiple binary variables, this can be avoided and each values is treated equally."
   ]
  },
  {
   "cell_type": "code",
   "execution_count": 185,
   "metadata": {},
   "outputs": [],
   "source": [
    "from sklearn import preprocessing\n",
    "le = preprocessing.LabelEncoder()\n",
    "Pclass_cat = le.fit_transform(titanic.Pclass)\n",
    "Embarked_cat = le.fit_transform(titanic.Embarked)\n",
    "Title_cat   = le.fit_transform(titanic.Title)\n",
    "\n",
    "Pclass_cat_test = le.fit_transform(test.Pclass)\n",
    "Embarked_cat_test = le.fit_transform(test.Embarked)\n",
    "Title_cat_test   = le.fit_transform(test.Title)"
   ]
  },
  {
   "cell_type": "code",
   "execution_count": 186,
   "metadata": {},
   "outputs": [],
   "source": [
    "#initialize the encoded categorical columns\n",
    "titanic['Pclass_cat'] = Pclass_cat\n",
    "titanic['Embarked_cat'] = Embarked_cat\n",
    "titanic['Title_cat'] = Title_cat\n",
    "\n",
    "test['Pclass_cat'] = Pclass_cat_test\n",
    "test['Embarked_cat'] = Embarked_cat_test\n",
    "test['Title_cat'] = Title_cat_test"
   ]
  },
  {
   "cell_type": "code",
   "execution_count": 187,
   "metadata": {},
   "outputs": [],
   "source": [
    "#drop the old categorical columns from dataframe\n",
    "dummy_fields = ['Pclass', 'Embarked', 'Title']\n",
    "titanic = titanic.drop(dummy_fields, axis = 1)\n",
    "test = test.drop(dummy_fields, axis = 1)"
   ]
  },
  {
   "cell_type": "code",
   "execution_count": 188,
   "metadata": {},
   "outputs": [
    {
     "name": "stderr",
     "output_type": "stream",
     "text": [
      "C:\\Users\\annjo\\Anaconda3\\lib\\site-packages\\ipykernel_launcher.py:3: FutureWarning: '.reindex_axis' is deprecated and will be removed in a future version. Use '.reindex' instead.\n",
      "  This is separate from the ipykernel package so we can avoid doing imports until\n",
      "C:\\Users\\annjo\\Anaconda3\\lib\\site-packages\\ipykernel_launcher.py:6: FutureWarning: '.reindex_axis' is deprecated and will be removed in a future version. Use '.reindex' instead.\n",
      "  \n"
     ]
    },
    {
     "data": {
      "text/html": [
       "<div>\n",
       "<style scoped>\n",
       "    .dataframe tbody tr th:only-of-type {\n",
       "        vertical-align: middle;\n",
       "    }\n",
       "\n",
       "    .dataframe tbody tr th {\n",
       "        vertical-align: top;\n",
       "    }\n",
       "\n",
       "    .dataframe thead th {\n",
       "        text-align: right;\n",
       "    }\n",
       "</style>\n",
       "<table border=\"1\" class=\"dataframe\">\n",
       "  <thead>\n",
       "    <tr style=\"text-align: right;\">\n",
       "      <th></th>\n",
       "      <th>PassengerId</th>\n",
       "      <th>Pclass_cat</th>\n",
       "      <th>Title_cat</th>\n",
       "      <th>Sex</th>\n",
       "      <th>Age</th>\n",
       "      <th>SibSp</th>\n",
       "      <th>Parch</th>\n",
       "      <th>Fare</th>\n",
       "      <th>Embarked_cat</th>\n",
       "    </tr>\n",
       "  </thead>\n",
       "  <tbody>\n",
       "    <tr>\n",
       "      <th>0</th>\n",
       "      <td>892</td>\n",
       "      <td>2</td>\n",
       "      <td>2</td>\n",
       "      <td>1</td>\n",
       "      <td>22</td>\n",
       "      <td>0</td>\n",
       "      <td>0</td>\n",
       "      <td>7.8292</td>\n",
       "      <td>2</td>\n",
       "    </tr>\n",
       "    <tr>\n",
       "      <th>1</th>\n",
       "      <td>893</td>\n",
       "      <td>2</td>\n",
       "      <td>3</td>\n",
       "      <td>0</td>\n",
       "      <td>38</td>\n",
       "      <td>1</td>\n",
       "      <td>0</td>\n",
       "      <td>7.0000</td>\n",
       "      <td>0</td>\n",
       "    </tr>\n",
       "    <tr>\n",
       "      <th>2</th>\n",
       "      <td>894</td>\n",
       "      <td>1</td>\n",
       "      <td>2</td>\n",
       "      <td>1</td>\n",
       "      <td>26</td>\n",
       "      <td>0</td>\n",
       "      <td>0</td>\n",
       "      <td>9.6875</td>\n",
       "      <td>2</td>\n",
       "    </tr>\n",
       "    <tr>\n",
       "      <th>3</th>\n",
       "      <td>895</td>\n",
       "      <td>2</td>\n",
       "      <td>2</td>\n",
       "      <td>1</td>\n",
       "      <td>35</td>\n",
       "      <td>0</td>\n",
       "      <td>0</td>\n",
       "      <td>8.6625</td>\n",
       "      <td>0</td>\n",
       "    </tr>\n",
       "    <tr>\n",
       "      <th>4</th>\n",
       "      <td>896</td>\n",
       "      <td>2</td>\n",
       "      <td>3</td>\n",
       "      <td>0</td>\n",
       "      <td>35</td>\n",
       "      <td>1</td>\n",
       "      <td>1</td>\n",
       "      <td>12.2875</td>\n",
       "      <td>0</td>\n",
       "    </tr>\n",
       "    <tr>\n",
       "      <th>5</th>\n",
       "      <td>897</td>\n",
       "      <td>2</td>\n",
       "      <td>2</td>\n",
       "      <td>1</td>\n",
       "      <td>30</td>\n",
       "      <td>0</td>\n",
       "      <td>0</td>\n",
       "      <td>9.2250</td>\n",
       "      <td>0</td>\n",
       "    </tr>\n",
       "    <tr>\n",
       "      <th>6</th>\n",
       "      <td>898</td>\n",
       "      <td>2</td>\n",
       "      <td>4</td>\n",
       "      <td>0</td>\n",
       "      <td>54</td>\n",
       "      <td>0</td>\n",
       "      <td>0</td>\n",
       "      <td>7.6292</td>\n",
       "      <td>2</td>\n",
       "    </tr>\n",
       "    <tr>\n",
       "      <th>7</th>\n",
       "      <td>899</td>\n",
       "      <td>1</td>\n",
       "      <td>2</td>\n",
       "      <td>1</td>\n",
       "      <td>2</td>\n",
       "      <td>1</td>\n",
       "      <td>1</td>\n",
       "      <td>29.0000</td>\n",
       "      <td>0</td>\n",
       "    </tr>\n",
       "    <tr>\n",
       "      <th>8</th>\n",
       "      <td>900</td>\n",
       "      <td>2</td>\n",
       "      <td>3</td>\n",
       "      <td>0</td>\n",
       "      <td>27</td>\n",
       "      <td>0</td>\n",
       "      <td>0</td>\n",
       "      <td>7.2292</td>\n",
       "      <td>1</td>\n",
       "    </tr>\n",
       "    <tr>\n",
       "      <th>9</th>\n",
       "      <td>901</td>\n",
       "      <td>2</td>\n",
       "      <td>2</td>\n",
       "      <td>1</td>\n",
       "      <td>14</td>\n",
       "      <td>2</td>\n",
       "      <td>0</td>\n",
       "      <td>24.1500</td>\n",
       "      <td>0</td>\n",
       "    </tr>\n",
       "  </tbody>\n",
       "</table>\n",
       "</div>"
      ],
      "text/plain": [
       "   PassengerId  Pclass_cat  Title_cat  Sex  Age  SibSp  Parch     Fare  \\\n",
       "0          892           2          2    1   22      0      0   7.8292   \n",
       "1          893           2          3    0   38      1      0   7.0000   \n",
       "2          894           1          2    1   26      0      0   9.6875   \n",
       "3          895           2          2    1   35      0      0   8.6625   \n",
       "4          896           2          3    0   35      1      1  12.2875   \n",
       "5          897           2          2    1   30      0      0   9.2250   \n",
       "6          898           2          4    0   54      0      0   7.6292   \n",
       "7          899           1          2    1    2      1      1  29.0000   \n",
       "8          900           2          3    0   27      0      0   7.2292   \n",
       "9          901           2          2    1   14      2      0  24.1500   \n",
       "\n",
       "   Embarked_cat  \n",
       "0             2  \n",
       "1             0  \n",
       "2             2  \n",
       "3             0  \n",
       "4             0  \n",
       "5             0  \n",
       "6             2  \n",
       "7             0  \n",
       "8             1  \n",
       "9             0  "
      ]
     },
     "execution_count": 188,
     "metadata": {},
     "output_type": "execute_result"
    }
   ],
   "source": [
    "titanic = titanic.reindex_axis(['Survived', 'Pclass_cat', 'Title_cat', 'Sex',\n",
    "                                    'Age', 'SibSp', 'Parch',\n",
    "                                     'Fare', 'Embarked_cat'], axis= 1)\n",
    "test = test.reindex_axis(['PassengerId','Pclass_cat', 'Title_cat', 'Sex',\n",
    "                                    'Age', 'SibSp', 'Parch',\n",
    "                                     'Fare', 'Embarked_cat'], axis= 1)\n",
    "\n",
    " \n",
    "test.head(10)"
   ]
  },
  {
   "cell_type": "markdown",
   "metadata": {},
   "source": [
    "## 7. Data Slicing"
   ]
  },
  {
   "cell_type": "raw",
   "metadata": {},
   "source": [
    "Our training set is split into another training set and a test set for out analysis to know the accuracy of the models internally. We did a 70:30 split as follows"
   ]
  },
  {
   "cell_type": "code",
   "execution_count": 189,
   "metadata": {},
   "outputs": [],
   "source": [
    "random.seed(777)\n",
    "train=titanic.sample(frac=0.7,random_state=200)\n",
    "test1=titanic.drop(train.index)\n",
    "features=titanic.drop(\"Survived\", axis=1)\n",
    "target=titanic[\"Survived\"]\n",
    "\n",
    "features_train = train.drop(\"Survived\", axis=1)\n",
    "target_train = train[\"Survived\"]\n",
    "features_test = test1.drop(\"Survived\", axis=1)\n",
    "target_test = test1[\"Survived\"]\n"
   ]
  },
  {
   "cell_type": "markdown",
   "metadata": {},
   "source": [
    "### PCA and GaussianNB for Feature Scaling "
   ]
  },
  {
   "cell_type": "code",
   "execution_count": 190,
   "metadata": {},
   "outputs": [],
   "source": [
    "from sklearn.pipeline import make_pipeline\n",
    "from sklearn.decomposition import PCA\n",
    "# Fit to data and predict using pipelined GNB and PCA.\n",
    "unscaled_clf = make_pipeline(PCA(n_components=2), GaussianNB())\n",
    "unscaled_clf.fit(features_train, target_train)\n",
    "pred_test = unscaled_clf.predict(features_test)"
   ]
  },
  {
   "cell_type": "code",
   "execution_count": 191,
   "metadata": {},
   "outputs": [
    {
     "name": "stderr",
     "output_type": "stream",
     "text": [
      "C:\\Users\\annjo\\Anaconda3\\lib\\site-packages\\sklearn\\preprocessing\\data.py:625: DataConversionWarning: Data with input dtype int32, int64, float64 were all converted to float64 by StandardScaler.\n",
      "  return self.partial_fit(X, y)\n",
      "C:\\Users\\annjo\\Anaconda3\\lib\\site-packages\\sklearn\\base.py:465: DataConversionWarning: Data with input dtype int32, int64, float64 were all converted to float64 by StandardScaler.\n",
      "  return self.fit(X, y, **fit_params).transform(X)\n",
      "C:\\Users\\annjo\\Anaconda3\\lib\\site-packages\\sklearn\\pipeline.py:331: DataConversionWarning: Data with input dtype int32, int64, float64 were all converted to float64 by StandardScaler.\n",
      "  Xt = transform.transform(Xt)\n"
     ]
    }
   ],
   "source": [
    "# Fit to data and predict using pipelined scaling, GNB and PCA.\n",
    "std_clf = make_pipeline(StandardScaler(), PCA(n_components=2), GaussianNB(var_smoothing = 0))\n",
    "std_clf.fit(features_train, target_train)\n",
    "pred_test_std = std_clf.predict(features_test)"
   ]
  },
  {
   "cell_type": "code",
   "execution_count": 192,
   "metadata": {},
   "outputs": [
    {
     "name": "stdout",
     "output_type": "stream",
     "text": [
      "\n",
      "Prediction accuracy for the standardized test dataset with PCA\n",
      "73.78%\n",
      "\n"
     ]
    }
   ],
   "source": [
    "from sklearn import metrics\n",
    "\n",
    "print('\\nPrediction accuracy for the standardized test dataset with PCA')\n",
    "print('{:.2%}\\n'.format(metrics.accuracy_score(target_test, pred_test_std)))"
   ]
  },
  {
   "cell_type": "code",
   "execution_count": 193,
   "metadata": {},
   "outputs": [
    {
     "name": "stdout",
     "output_type": "stream",
     "text": [
      "\n",
      "PC 1 without scaling:\n",
      " [-8.73973065e-03  2.89336914e-03 -1.78658229e-03  3.14621930e-02\n",
      "  2.62382848e-03  3.27976081e-03  9.99452064e-01  3.38678304e-04]\n",
      "\n",
      "PC 1 with scaling:\n",
      " [-0.39047449  0.51827668 -0.54577743  0.07613432  0.16755692  0.26348023\n",
      "  0.41805101  0.05464175]\n"
     ]
    }
   ],
   "source": [
    "# Extract PCA from pipeline\n",
    "pca = unscaled_clf.named_steps['pca']\n",
    "pca_std = std_clf.named_steps['pca']\n",
    "# Show first principal components\n",
    "print('\\nPC 1 without scaling:\\n', pca.components_[0])\n",
    "print('\\nPC 1 with scaling:\\n', pca_std.components_[0])"
   ]
  },
  {
   "cell_type": "code",
   "execution_count": 194,
   "metadata": {},
   "outputs": [
    {
     "name": "stderr",
     "output_type": "stream",
     "text": [
      "C:\\Users\\annjo\\Anaconda3\\lib\\site-packages\\ipykernel_launcher.py:4: DataConversionWarning: Data with input dtype int32, int64, float64 were all converted to float64 by StandardScaler.\n",
      "  after removing the cwd from sys.path.\n"
     ]
    }
   ],
   "source": [
    "# Use PCA without and with scale on X_train data for visualization.\n",
    "X_train_transformed = pca.transform(features_train)\n",
    "scaler = std_clf.named_steps['standardscaler']\n",
    "X_train_std_transformed = pca_std.transform(scaler.transform(features_train))"
   ]
  },
  {
   "cell_type": "code",
   "execution_count": 195,
   "metadata": {},
   "outputs": [
    {
     "data": {
      "image/png": "[encoded data removed]",
      "text/plain": [
       "<Figure size 720x504 with 2 Axes>"
      ]
     },
     "metadata": {
      "needs_background": "light"
     },
     "output_type": "display_data"
    }
   ],
   "source": [
    "# visualize standardized vs. untouched dataset with PCA performed\n",
    "FIG_SIZE = (10, 7)\n",
    "\n",
    "fig, (ax1, ax2) = plt.subplots(ncols=2, figsize=FIG_SIZE)\n",
    "\n",
    "\n",
    "for l, c, m in zip(range(0, 2), ('blue', 'red'), ('^', 's')):\n",
    "    ax1.scatter(X_train_transformed[target_train == l, 0],\n",
    "                X_train_transformed[target_train == l, 1],\n",
    "                color=c,\n",
    "                label='class %s' % l,\n",
    "                alpha=0.5,\n",
    "                marker=m\n",
    "                )\n",
    "\n",
    "for l, c, m in zip(range(0, 2), ('blue', 'red'), ('^', 's')):\n",
    "    ax2.scatter(X_train_std_transformed[target_train == l, 0],\n",
    "                X_train_std_transformed[target_train == l, 1],\n",
    "                color=c,\n",
    "                label='class %s' % l,\n",
    "                alpha=0.5,\n",
    "                marker=m\n",
    "                )\n",
    "\n",
    "ax1.set_title('Training dataset before PCA')\n",
    "ax2.set_title('Standardized training dataset after PCA')\n",
    "\n",
    "for ax in (ax1, ax2):\n",
    "    ax.set_xlabel('1st principal component')\n",
    "    ax.set_ylabel('2nd principal component')\n",
    "    ax.legend(loc='upper right')\n",
    "    ax.grid()\n",
    "\n",
    "plt.tight_layout()\n",
    "\n",
    "plt.show()"
   ]
  },
  {
   "cell_type": "markdown",
   "metadata": {},
   "source": [
    "### Standardization of Data\n",
    "\n",
    "Standardization is done so that columns with higher values are not given more importance thant columns with lower values. When stardardizing, columns are scaled down to the same size so that they are treated equally."
   ]
  },
  {
   "cell_type": "code",
   "execution_count": 196,
   "metadata": {},
   "outputs": [],
   "source": [
    "num_features = ['Pclass_cat', 'Title_cat', 'Sex',\n",
    "                                    'Age', 'SibSp', 'Parch',\n",
    "                                     'Fare', 'Embarked_cat']\n",
    " \n",
    "scaled_features = {}\n",
    "for each in num_features:\n",
    "    mean, std = titanic[each].mean(), titanic[each].std()\n",
    "    scaled_features[each] = [mean, std]\n",
    "    titanic.loc[:, each] = (titanic[each] - mean)/std\n",
    "for each in num_features:\n",
    "    mean, std = test[each].mean(), test[each].std()\n",
    "    scaled_features[each] = [mean, std]\n",
    "    test.loc[:, each] = (test[each] - mean)/std\n",
    "    \n",
    "random.seed(777)\n",
    "train=titanic.sample(frac=0.7,random_state=200)\n",
    "test1=titanic.drop(train.index)\n",
    "features=titanic.drop(\"Survived\", axis=1)\n",
    "target=titanic[\"Survived\"]\n",
    "\n",
    "features_train = train.drop(\"Survived\", axis=1)\n",
    "target_train = train[\"Survived\"]\n",
    "features_test = test1.drop(\"Survived\", axis=1)\n",
    "target_test = test1[\"Survived\"]\n"
   ]
  },
  {
   "cell_type": "markdown",
   "metadata": {},
   "source": [
    "## 8. Data Modelling and Comparison"
   ]
  },
  {
   "cell_type": "markdown",
   "metadata": {},
   "source": [
    "### 8.1. Gaussian Naive Bayes "
   ]
  },
  {
   "cell_type": "markdown",
   "metadata": {},
   "source": [
    "In a classification problem like the one in this analysis, our hypothesis (h) may be the class to assign for a new data instance (d). One of the easiest ways of selecting the most probable hypothesis given the data that we have is by using it as our prior knowledge about the problem. Bayes' Theorem provides a way to calculate the probability of a hypothesis given our prior knowledge. The Gaussain Naive Bayes will calculate the prior probability P(h) irrespective of the data.\n",
    "\n",
    "Below, we build our Naive Bayes model and give the accuracy of the model."
   ]
  },
  {
   "cell_type": "code",
   "execution_count": 197,
   "metadata": {},
   "outputs": [],
   "source": [
    "random.seed(7777)\n",
    "gnb = GaussianNB()\n",
    "gnb.fit(features_train, target_train)\n",
    "target_pred = gnb.predict(features_test)\n"
   ]
  },
  {
   "cell_type": "code",
   "execution_count": 198,
   "metadata": {},
   "outputs": [
    {
     "name": "stdout",
     "output_type": "stream",
     "text": [
      "\n",
      "Prediction accuracy for the Gaussian Naive Bayes:\n",
      "75.28%\n",
      "\n"
     ]
    }
   ],
   "source": [
    "from sklearn.metrics import accuracy_score\n",
    "print('\\nPrediction accuracy for the Gaussian Naive Bayes:')\n",
    "print('{:.2%}\\n'.format(metrics.accuracy_score(target_test, target_pred,normalize = True)))"
   ]
  },
  {
   "cell_type": "markdown",
   "metadata": {},
   "source": [
    "### Tuning Naive Bayes"
   ]
  },
  {
   "cell_type": "markdown",
   "metadata": {},
   "source": [
    "There are two tuning parameters in this model: Prior probability and variable smoothing. The Gaussian Naive Bayes algorithm handles prior probabilities pretty well on its own so we only tuned the parameter, variable smoothing. The var_smoothing at 0.5 gives improvement in the accuracy of the tuned Naive bayes model."
   ]
  },
  {
   "cell_type": "code",
   "execution_count": 199,
   "metadata": {},
   "outputs": [
    {
     "name": "stdout",
     "output_type": "stream",
     "text": [
      "\n",
      "Prediction accuracy for the Gaussian Naive Bayes with Variable smoothing=1 \n",
      "73.41%\n",
      "\n"
     ]
    }
   ],
   "source": [
    "random.seed(7777)\n",
    "gnb = GaussianNB(var_smoothing = 1)\n",
    "gnb.fit(features_train, target_train)\n",
    "target_pred = gnb.predict(features_test)\n",
    "#accuracy_score(target_test, target_pred, normalize = True)\n",
    "print('\\nPrediction accuracy for the Gaussian Naive Bayes with Variable smoothing=1 ')\n",
    "print('{:.2%}\\n'.format(metrics.accuracy_score(target_test, target_pred,normalize = True)))"
   ]
  },
  {
   "cell_type": "code",
   "execution_count": 200,
   "metadata": {},
   "outputs": [],
   "source": [
    "from sklearn.model_selection import StratifiedKFold \n",
    "random.seed(7777)\n",
    "#v = [0,0.1,0.2,0.3,0.4,0.5,0.6,0.7,0.8,0.9,1]\n",
    "#params = {\"var_smoothing\" : v}\n",
    "params = {}\n",
    "#gridsearch searches for the best hyperparameters and keeps the classifier with the highest recall score\n",
    "skf = StratifiedKFold(n_splits=10)\n",
    "\n",
    "nb2 = GridSearchCV(GaussianNB(var_smoothing = 0.5), cv=skf, param_grid=params)"
   ]
  },
  {
   "cell_type": "code",
   "execution_count": 201,
   "metadata": {},
   "outputs": [
    {
     "name": "stderr",
     "output_type": "stream",
     "text": [
      "C:\\Users\\annjo\\Anaconda3\\lib\\site-packages\\sklearn\\model_selection\\_search.py:841: DeprecationWarning: The default of the `iid` parameter will change from True to False in version 0.22 and will be removed in 0.24. This will change numeric results when test-set sizes are unequal.\n",
      "  DeprecationWarning)\n"
     ]
    },
    {
     "data": {
      "text/plain": [
       "GridSearchCV(cv=StratifiedKFold(n_splits=10, random_state=None, shuffle=False),\n",
       "       error_score='raise-deprecating',\n",
       "       estimator=GaussianNB(priors=None, var_smoothing=0.5),\n",
       "       fit_params=None, iid='warn', n_jobs=None, param_grid={},\n",
       "       pre_dispatch='2*n_jobs', refit=True, return_train_score='warn',\n",
       "       scoring=None, verbose=0)"
      ]
     },
     "execution_count": 201,
     "metadata": {},
     "output_type": "execute_result"
    }
   ],
   "source": [
    "nb2.fit(features_train, target_train)"
   ]
  },
  {
   "cell_type": "code",
   "execution_count": 202,
   "metadata": {},
   "outputs": [],
   "source": [
    "y_pred_nb2 = nb2.predict(features_test)"
   ]
  },
  {
   "cell_type": "code",
   "execution_count": 203,
   "metadata": {},
   "outputs": [
    {
     "data": {
      "text/plain": [
       "0.7640449438202247"
      ]
     },
     "execution_count": 203,
     "metadata": {},
     "output_type": "execute_result"
    }
   ],
   "source": [
    "#print(y_pred_nb2)\n",
    "\n",
    "# predicted probabilities on the test set\n",
    "y_scores_nb2 = nb2.predict_proba(features_test)[:, 1]\n",
    "accuracy_score(target_test,y_pred_nb2,normalize = True)"
   ]
  },
  {
   "cell_type": "markdown",
   "metadata": {},
   "source": [
    "### Prediction using Test"
   ]
  },
  {
   "cell_type": "code",
   "execution_count": 204,
   "metadata": {},
   "outputs": [],
   "source": [
    "test_pred = nb2.predict(test.drop('PassengerId',axis = 1))"
   ]
  },
  {
   "cell_type": "code",
   "execution_count": 205,
   "metadata": {},
   "outputs": [],
   "source": [
    "test_id = test[\"PassengerId\"]\n",
    "test_Survived = pd.Series(test_pred, name=\"Survived\")\n",
    "\n",
    "results = pd.concat([test_id,test_Survived],axis=1)\n",
    "\n",
    "results.to_csv(\"NB.csv\",index=False)"
   ]
  },
  {
   "cell_type": "markdown",
   "metadata": {},
   "source": [
    "When we submitted this result to Kaggle, we got an accuracy of 77.99% and a rank of 4928."
   ]
  },
  {
   "cell_type": "markdown",
   "metadata": {},
   "source": [
    "### 8.2. Perceptron\n",
    "\n",
    "Perceptron is a single layer neural network and a multi-layer perceptron is called a Neural Networks.\n",
    "A perceptron is a linear classifier (binary). Also, it is used in supervised learning and helps to classify the given input data.\n",
    "\n",
    "The perceptron consists of 4 parts:\n",
    "1. Input values or One input layer\n",
    "2. Weights and Bias\n",
    "3. Net sum\n",
    "4. Activation Function\n",
    "\n",
    "In a perceptron, all the inputs are multiplied by some weight and passed through the activation function to get an output. In a neural network, there are many hidden layers and multiple activation functions in each layer.\n",
    "Below, we built a perceptron model."
   ]
  },
  {
   "cell_type": "code",
   "execution_count": 206,
   "metadata": {},
   "outputs": [
    {
     "name": "stdout",
     "output_type": "stream",
     "text": [
      "\n",
      "Prediction accuracy for the Perceptron\n",
      "73.03%\n",
      "\n"
     ]
    },
    {
     "name": "stderr",
     "output_type": "stream",
     "text": [
      "C:\\Users\\annjo\\Anaconda3\\lib\\site-packages\\sklearn\\linear_model\\stochastic_gradient.py:183: FutureWarning: max_iter and tol parameters have been added in Perceptron in 0.19. If max_iter is set but tol is left unset, the default value for tol in 0.19 and 0.20 will be None (which is equivalent to -infinity, so it has no effect) but will change in 0.21 to 1e-3. Specify tol to silence this warning.\n",
      "  FutureWarning)\n"
     ]
    }
   ],
   "source": [
    "random.seed(777)\n",
    "perceptron = Perceptron(max_iter=1000, tol=None)\n",
    "perceptron.fit(features_train, target_train)\n",
    "target_pred = perceptron.predict(features_test)\n",
    "#accuracy_score(target_test, target_pred, normalize = True)\n",
    "print('\\nPrediction accuracy for the Perceptron')\n",
    "print('{:.2%}\\n'.format(metrics.accuracy_score(target_test, target_pred)))"
   ]
  },
  {
   "cell_type": "markdown",
   "metadata": {},
   "source": [
    "### Tuning the Perceptron\n",
    "\n",
    "Next, we used a multilayered perceptron. There are many parameters that can be tuned in this type of model like the maximum number of iterartions, the number of hidden layers, the weight of the inputs, etc. Below, a grid search is done to tune each parameter and choose the tuned multilayer perceptron model that is the most accurate."
   ]
  },
  {
   "cell_type": "code",
   "execution_count": 207,
   "metadata": {},
   "outputs": [
    {
     "name": "stdout",
     "output_type": "stream",
     "text": [
      "0.8630751964085297\n",
      "{'alpha': 0.1, 'hidden_layer_sizes': 10, 'max_iter': 100, 'random_state': 8, 'solver': 'lbfgs'}\n"
     ]
    }
   ],
   "source": [
    "parameters = {'solver': ['lbfgs'], 'max_iter': [100,200,300,400], 'alpha': 10.0 ** -np.arange(1, 10), 'hidden_layer_sizes':np.arange(10, 15), 'random_state':[0,1,2,3,4,5,6,7,8,9]}\n",
    "clf = GridSearchCV(MLPClassifier(), parameters, n_jobs=-1, cv=3)\n",
    "\n",
    "clf.fit(features, target)\n",
    "print(clf.score(features, target)) #Accuracy\n",
    "print(clf.best_params_)"
   ]
  },
  {
   "cell_type": "markdown",
   "metadata": {},
   "source": [
    "From above, the tuned parameters of the best Perceptron model are can also be seen."
   ]
  },
  {
   "cell_type": "markdown",
   "metadata": {},
   "source": [
    "### Prediction using Test Dataset"
   ]
  },
  {
   "cell_type": "code",
   "execution_count": 208,
   "metadata": {},
   "outputs": [],
   "source": [
    "pred_perceptron = clf.predict(test.drop('PassengerId',axis = 1))\n",
    "test_id = test[\"PassengerId\"]\n",
    "test_Survived = pd.Series(pred_perceptron, name=\"Survived\")\n",
    "\n",
    "results = pd.concat([test_id,test_Survived],axis=1)\n",
    "\n",
    "results.to_csv(\"Perceptron.csv\",index=False)"
   ]
  },
  {
   "cell_type": "markdown",
   "metadata": {},
   "source": [
    "When we submitted this result to Kaggle, we got an accuracy of 75%."
   ]
  },
  {
   "cell_type": "markdown",
   "metadata": {},
   "source": [
    "### 8.3. Random Forest"
   ]
  },
  {
   "cell_type": "markdown",
   "metadata": {},
   "source": [
    "Each tree randomly chooses the root node and splits till it reaches the leaf nodes giving 0 or 1 i.e, Does not survive or survives. Choosing higher number of trees will reduce the overfitting issue. Here we used 100 trees to fit the model which seems to be a good choice as it has least out of bag error.  "
   ]
  },
  {
   "cell_type": "code",
   "execution_count": 209,
   "metadata": {},
   "outputs": [
    {
     "name": "stdout",
     "output_type": "stream",
     "text": [
      "\n",
      "Prediction accuracy for the Perceptron 98.88 %\n"
     ]
    }
   ],
   "source": [
    "random_forest = RandomForestClassifier(n_estimators=100)\n",
    "random_forest.fit(features_train, target_train)\n",
    "\n",
    "Y_prediction = random_forest.predict(features_test)\n",
    "\n",
    "random_forest.score(features_train, target_train)\n",
    "acc_random_forest = round(random_forest.score(features_train, target_train) * 100, 2)\n",
    "#acc_random_forest\n",
    "print('\\nPrediction accuracy for the Perceptron',acc_random_forest,'%')\n",
    "#print('{:.2%}\\n'.format(metrics.random_forest.score(features_train, target_train)))"
   ]
  },
  {
   "cell_type": "markdown",
   "metadata": {},
   "source": [
    "Even though this accuracy is great, is just the best accuracy. When we look at the average accuracy given by this model, we see the following:"
   ]
  },
  {
   "cell_type": "code",
   "execution_count": 210,
   "metadata": {
    "scrolled": true
   },
   "outputs": [
    {
     "name": "stdout",
     "output_type": "stream",
     "text": [
      "Scores: [0.74603175 0.84126984 0.73015873 0.73015873 0.85714286 0.79365079\n",
      " 0.79032258 0.83870968 0.83606557 0.83606557]\n",
      "Mean: 0.7999576104018198\n",
      "Standard Deviation: 0.04676592942506856\n"
     ]
    }
   ],
   "source": [
    "random.seed(7777)\n",
    "from sklearn.model_selection import cross_val_score\n",
    "rf = RandomForestClassifier(n_estimators=100)\n",
    "scores = cross_val_score(rf, features_train, target_train, cv=10, scoring = \"accuracy\")\n",
    "print(\"Scores:\", scores)\n",
    "print(\"Mean:\", scores.mean())\n",
    "print(\"Standard Deviation:\", scores.std())\n"
   ]
  },
  {
   "cell_type": "markdown",
   "metadata": {},
   "source": [
    "This looks much more realistic than before."
   ]
  },
  {
   "cell_type": "markdown",
   "metadata": {},
   "source": [
    "### Feature Importance"
   ]
  },
  {
   "cell_type": "markdown",
   "metadata": {},
   "source": [
    "Another important features of the Random Forest model is that you can see which predictors are important. From below, we see that predictors Age and Fare are the top two most important variables when trying to determine whether or not a passenger survived."
   ]
  },
  {
   "cell_type": "code",
   "execution_count": 211,
   "metadata": {},
   "outputs": [
    {
     "data": {
      "text/html": [
       "<div>\n",
       "<style scoped>\n",
       "    .dataframe tbody tr th:only-of-type {\n",
       "        vertical-align: middle;\n",
       "    }\n",
       "\n",
       "    .dataframe tbody tr th {\n",
       "        vertical-align: top;\n",
       "    }\n",
       "\n",
       "    .dataframe thead th {\n",
       "        text-align: right;\n",
       "    }\n",
       "</style>\n",
       "<table border=\"1\" class=\"dataframe\">\n",
       "  <thead>\n",
       "    <tr style=\"text-align: right;\">\n",
       "      <th></th>\n",
       "      <th>importance</th>\n",
       "    </tr>\n",
       "    <tr>\n",
       "      <th>feature</th>\n",
       "      <th></th>\n",
       "    </tr>\n",
       "  </thead>\n",
       "  <tbody>\n",
       "    <tr>\n",
       "      <th>Fare</th>\n",
       "      <td>0.258</td>\n",
       "    </tr>\n",
       "    <tr>\n",
       "      <th>Age</th>\n",
       "      <td>0.233</td>\n",
       "    </tr>\n",
       "    <tr>\n",
       "      <th>Sex</th>\n",
       "      <td>0.163</td>\n",
       "    </tr>\n",
       "    <tr>\n",
       "      <th>Title_cat</th>\n",
       "      <td>0.147</td>\n",
       "    </tr>\n",
       "    <tr>\n",
       "      <th>Pclass_cat</th>\n",
       "      <td>0.079</td>\n",
       "    </tr>\n",
       "    <tr>\n",
       "      <th>SibSp</th>\n",
       "      <td>0.051</td>\n",
       "    </tr>\n",
       "    <tr>\n",
       "      <th>Embarked_cat</th>\n",
       "      <td>0.037</td>\n",
       "    </tr>\n",
       "    <tr>\n",
       "      <th>Parch</th>\n",
       "      <td>0.033</td>\n",
       "    </tr>\n",
       "  </tbody>\n",
       "</table>\n",
       "</div>"
      ],
      "text/plain": [
       "              importance\n",
       "feature                 \n",
       "Fare               0.258\n",
       "Age                0.233\n",
       "Sex                0.163\n",
       "Title_cat          0.147\n",
       "Pclass_cat         0.079\n",
       "SibSp              0.051\n",
       "Embarked_cat       0.037\n",
       "Parch              0.033"
      ]
     },
     "execution_count": 211,
     "metadata": {},
     "output_type": "execute_result"
    }
   ],
   "source": [
    "importances = pd.DataFrame({'feature':features_train.columns,'importance':np.round(random_forest.feature_importances_,3)})\n",
    "importances = importances.sort_values('importance',ascending=False).set_index('feature')\n",
    "importances.head(15)"
   ]
  },
  {
   "cell_type": "markdown",
   "metadata": {},
   "source": [
    "### Tuning Random Forest Parameters\n",
    "\n",
    "There are many parameters that can be tuned in a random forest such as the number of nodes, the maximum number of splits, the number of estimators, etc. These parameters are tuned below to get the random forest with tuned parameters that give the best results."
   ]
  },
  {
   "cell_type": "code",
   "execution_count": 212,
   "metadata": {},
   "outputs": [
    {
     "name": "stdout",
     "output_type": "stream",
     "text": [
      "{'criterion': 'entropy', 'min_samples_leaf': 1, 'min_samples_split': 12, 'n_estimators': 100}\n"
     ]
    }
   ],
   "source": [
    "param_grid = { \"criterion\" : [\"gini\", \"entropy\"], \"min_samples_leaf\" : [1, 5, 10, 25, 50, 70], \"min_samples_split\" : [2, 4, 10, 12, 16, 18, 25, 35], \"n_estimators\": [100, 400, 700, 1000, 1500]}\n",
    "rf = RandomForestClassifier(n_estimators=100, max_features='auto', oob_score=True, random_state=1, n_jobs=-1)\n",
    "clf = GridSearchCV(estimator=rf, param_grid=param_grid, n_jobs=-1, cv=3)\n",
    "clf.fit(features_train, target_train)\n",
    "print(clf.best_params_)"
   ]
  },
  {
   "cell_type": "markdown",
   "metadata": {},
   "source": [
    "The above shows the tuned parameters of the best random forest model.\n"
   ]
  },
  {
   "cell_type": "code",
   "execution_count": 215,
   "metadata": {},
   "outputs": [
    {
     "name": "stdout",
     "output_type": "stream",
     "text": [
      "\n",
      "Prediction accuracy for the Random forest after tuning 87.99102132435466 %\n"
     ]
    }
   ],
   "source": [
    "print('\\nPrediction accuracy for the Random forest after tuning',clf.score(features, target)*100,'%')\n"
   ]
  },
  {
   "cell_type": "markdown",
   "metadata": {},
   "source": [
    "### Prediction on the Test Dataset"
   ]
  },
  {
   "cell_type": "code",
   "execution_count": 216,
   "metadata": {},
   "outputs": [],
   "source": [
    "pred_rf = clf.predict(test.drop('PassengerId',axis = 1))\n",
    "test_id = test[\"PassengerId\"]\n",
    "test_Survived = pd.Series(pred_rf, name=\"Survived\")\n",
    "\n",
    "results = pd.concat([test_id,test_Survived],axis=1)\n",
    "\n",
    "results.to_csv(\"RandomForest.csv\",index=False)"
   ]
  },
  {
   "cell_type": "markdown",
   "metadata": {},
   "source": [
    "Prediction Accuracy of Random Forest with Test data is : 79%"
   ]
  },
  {
   "cell_type": "markdown",
   "metadata": {},
   "source": [
    "## 9. Model Comparison and Conlusion\n",
    "\n",
    "### Accuracy Scores Comparison:\n",
    "\n",
    "Gaussian Naive Bayes : 78%\n",
    "\n",
    "Perceptron :75%\n",
    "\n",
    "Random Forest : 79%\n",
    "\n",
    "Hence, we conclude that out of the three models that were build, Random forest out performs the other models and this model would be chosen for predicting whether or not a passenger survives."
   ]
  }
 ],
 "metadata": {
  "kernelspec": {
   "display_name": "Python 3",
   "language": "python",
   "name": "python3"
  },
  "language_info": {
   "codemirror_mode": {
    "name": "ipython",
    "version": 3
   },
   "file_extension": ".py",
   "mimetype": "text/x-python",
   "name": "python",
   "nbconvert_exporter": "python",
   "pygments_lexer": "ipython3",
   "version": "3.7.1"
  }
 },
 "nbformat": 4,
 "nbformat_minor": 2
}
